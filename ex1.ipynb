{
  "nbformat": 4,
  "nbformat_minor": 0,
  "metadata": {
    "colab": {
      "name": "ex1.ipynb",
      "provenance": [],
      "authorship_tag": "ABX9TyNsqnCSnINqx6erX2SpnfNP",
      "include_colab_link": true
    },
    "kernelspec": {
      "name": "python3",
      "display_name": "Python 3"
    }
  },
  "cells": [
    {
      "cell_type": "markdown",
      "metadata": {
        "id": "view-in-github",
        "colab_type": "text"
      },
      "source": [
        "<a href=\"https://colab.research.google.com/github/rabbitdd/AlphaBot/blob/master/ex1.ipynb\" target=\"_parent\"><img src=\"https://colab.research.google.com/assets/colab-badge.svg\" alt=\"Open In Colab\"/></a>"
      ]
    },
    {
      "cell_type": "code",
      "metadata": {
        "id": "qSqnlux3FgYn"
      },
      "source": [
        "import numpy as np\r\n",
        "import pandas as pd\r\n",
        "from pandas import Series, DataFrame"
      ],
      "execution_count": null,
      "outputs": []
    },
    {
      "cell_type": "code",
      "metadata": {
        "colab": {
          "base_uri": "https://localhost:8080/",
          "height": 202
        },
        "id": "KrcLv4zqG0rm",
        "outputId": "06eddaf5-bc7a-447a-e46a-b1570e599fda"
      },
      "source": [
        "pulsar_set = pd.read_csv('report.csv')\r\n",
        "pulsar_set.head()"
      ],
      "execution_count": null,
      "outputs": [
        {
          "output_type": "execute_result",
          "data": {
            "text/html": [
              "<div>\n",
              "<style scoped>\n",
              "    .dataframe tbody tr th:only-of-type {\n",
              "        vertical-align: middle;\n",
              "    }\n",
              "\n",
              "    .dataframe tbody tr th {\n",
              "        vertical-align: top;\n",
              "    }\n",
              "\n",
              "    .dataframe thead th {\n",
              "        text-align: right;\n",
              "    }\n",
              "</style>\n",
              "<table border=\"1\" class=\"dataframe\">\n",
              "  <thead>\n",
              "    <tr style=\"text-align: right;\">\n",
              "      <th></th>\n",
              "      <th>MIP</th>\n",
              "      <th>STDIP</th>\n",
              "      <th>EKIP</th>\n",
              "      <th>SIP</th>\n",
              "      <th>MC</th>\n",
              "      <th>STDC</th>\n",
              "      <th>EKC</th>\n",
              "      <th>SC</th>\n",
              "      <th>TARGET</th>\n",
              "    </tr>\n",
              "  </thead>\n",
              "  <tbody>\n",
              "    <tr>\n",
              "      <th>0</th>\n",
              "      <td>137.218750</td>\n",
              "      <td>45.390655</td>\n",
              "      <td>0.034985</td>\n",
              "      <td>0.134409</td>\n",
              "      <td>3.204013</td>\n",
              "      <td>17.177857</td>\n",
              "      <td>7.494588</td>\n",
              "      <td>74.003104</td>\n",
              "      <td>0</td>\n",
              "    </tr>\n",
              "    <tr>\n",
              "      <th>1</th>\n",
              "      <td>93.773438</td>\n",
              "      <td>41.883062</td>\n",
              "      <td>0.371402</td>\n",
              "      <td>1.291232</td>\n",
              "      <td>1.482441</td>\n",
              "      <td>12.959050</td>\n",
              "      <td>12.242911</td>\n",
              "      <td>180.158844</td>\n",
              "      <td>0</td>\n",
              "    </tr>\n",
              "    <tr>\n",
              "      <th>2</th>\n",
              "      <td>73.632812</td>\n",
              "      <td>35.461218</td>\n",
              "      <td>1.153607</td>\n",
              "      <td>4.161082</td>\n",
              "      <td>2.099498</td>\n",
              "      <td>13.057474</td>\n",
              "      <td>10.013591</td>\n",
              "      <td>140.894151</td>\n",
              "      <td>0</td>\n",
              "    </tr>\n",
              "    <tr>\n",
              "      <th>3</th>\n",
              "      <td>93.429688</td>\n",
              "      <td>39.883166</td>\n",
              "      <td>0.602060</td>\n",
              "      <td>1.518548</td>\n",
              "      <td>2.475753</td>\n",
              "      <td>14.146578</td>\n",
              "      <td>8.770640</td>\n",
              "      <td>107.970173</td>\n",
              "      <td>0</td>\n",
              "    </tr>\n",
              "    <tr>\n",
              "      <th>4</th>\n",
              "      <td>131.625000</td>\n",
              "      <td>44.111896</td>\n",
              "      <td>0.108905</td>\n",
              "      <td>0.239879</td>\n",
              "      <td>33.888796</td>\n",
              "      <td>70.398342</td>\n",
              "      <td>1.689460</td>\n",
              "      <td>1.031847</td>\n",
              "      <td>0</td>\n",
              "    </tr>\n",
              "  </tbody>\n",
              "</table>\n",
              "</div>"
            ],
            "text/plain": [
              "          MIP      STDIP      EKIP  ...        EKC          SC  TARGET\n",
              "0  137.218750  45.390655  0.034985  ...   7.494588   74.003104       0\n",
              "1   93.773438  41.883062  0.371402  ...  12.242911  180.158844       0\n",
              "2   73.632812  35.461218  1.153607  ...  10.013591  140.894151       0\n",
              "3   93.429688  39.883166  0.602060  ...   8.770640  107.970173       0\n",
              "4  131.625000  44.111896  0.108905  ...   1.689460    1.031847       0\n",
              "\n",
              "[5 rows x 9 columns]"
            ]
          },
          "metadata": {
            "tags": []
          },
          "execution_count": 4
        }
      ]
    }
  ]
}